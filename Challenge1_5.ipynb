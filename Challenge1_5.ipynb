{
  "nbformat": 4,
  "nbformat_minor": 0,
  "metadata": {
    "colab": {
      "name": "Challenge1-5.ipynb",
      "provenance": [],
      "collapsed_sections": [],
      "toc_visible": true,
      "authorship_tag": "ABX9TyPF+OgHZPCdw2pQcbGqqc9R",
      "include_colab_link": true
    },
    "kernelspec": {
      "name": "python3",
      "display_name": "Python 3"
    },
    "language_info": {
      "name": "python"
    }
  },
  "cells": [
    {
      "cell_type": "markdown",
      "metadata": {
        "id": "view-in-github",
        "colab_type": "text"
      },
      "source": [
        "<a href=\"https://colab.research.google.com/github/yusangmin/Python-Challenge/blob/main/Challenge1_5.ipynb\" target=\"_parent\"><img src=\"https://colab.research.google.com/assets/colab-badge.svg\" alt=\"Open In Colab\"/></a>"
      ]
    },
    {
      "cell_type": "markdown",
      "metadata": {
        "id": "DkfuodLRjkBA"
      },
      "source": [
        "#1 제1장 파이썬의 소개 : 도전문제"
      ]
    },
    {
      "cell_type": "markdown",
      "metadata": {
        "id": "HCoXUnRgr2LJ"
      },
      "source": [
        "# Heading 1\n",
        "## Heading 2\n",
        "### Heading 3\n",
        "Yu Sang Min [Github](https://www.github.com/yusangmin) Link\n",
        "\n",
        "\n",
        "\n",
        "\n"
      ]
    },
    {
      "cell_type": "markdown",
      "metadata": {
        "id": "nj8vpqNGjper"
      },
      "source": [
        "한글도 출력될까? 이번에도 따옴표를 올바르게 입력하여야한다.\n",
        "1.   \"안녕하세요?\"를 화면에 출력해보자.\n",
        "2.   \"Programming에 입문하신 것을 출하드립니다.\"를 출력해보자."
      ]
    },
    {
      "cell_type": "code",
      "metadata": {
        "id": "MqfmhRucj-JW"
      },
      "source": [
        "print(\"안녕하세요?\")"
      ],
      "execution_count": null,
      "outputs": []
    },
    {
      "cell_type": "code",
      "metadata": {
        "id": "6XIsizI5kXlj"
      },
      "source": [
        "print(\"programming에 입문하신 것을 축하드립니다.\")"
      ],
      "execution_count": null,
      "outputs": []
    },
    {
      "cell_type": "markdown",
      "metadata": {
        "id": "QdpLXxXJtezH"
      },
      "source": [
        "파이썬의 IDLE를 이용하여 아래와 같은 계산을 해보자.(코랩에서 해도 됩니다.)\n",
        "\n",
        "\n",
        "1.   3.141592* 10.0 *10.0\n",
        "2.   (1/100) * 1234\n",
        "\n"
      ]
    },
    {
      "cell_type": "code",
      "metadata": {
        "id": "SH9dc_grt4LN"
      },
      "source": [
        "print(3.141592*10.0*10.0)"
      ],
      "execution_count": null,
      "outputs": []
    },
    {
      "cell_type": "code",
      "metadata": {
        "id": "Zu0QVNutt-AO"
      },
      "source": [
        "print((1/100)*1234)"
      ],
      "execution_count": null,
      "outputs": []
    },
    {
      "cell_type": "markdown",
      "metadata": {
        "id": "4Xb464gPuGUh"
      },
      "source": [
        "\n",
        "\n",
        "1.   거북이를 움직여서 정삼각형을 그려보자. 회전하는 각도록 몇 도로 하여야 하는가?\n",
        "2.   거북이를 움직여서 정사각형을 그려보자. 회전하는 각도록 몇 도로 하여야 하는가?\n",
        "\n"
      ]
    },
    {
      "cell_type": "markdown",
      "metadata": {
        "id": "ToH0L2CPuti8"
      },
      "source": [
        "코랩에서는 turtle graphic이 실행되지 않습니다. VS code에서 작성하시기바랍니다."
      ]
    },
    {
      "cell_type": "code",
      "metadata": {
        "id": "dMWgZ-yTurYf"
      },
      "source": [
        "import turtle         # trutle 모듈을 불러온다.\n",
        "t = turtle.Turtle()     # turtle을 t로 선언   import turtle as t 할 수 있다.\n",
        "t.shape(\"turtle\");      # turtle모듈의 아이콘을 거북이 모양으로 선언\n",
        "                     # 기본 아이콘은 classic, 삼각형은 triangle. 원은 circle\n",
        "t.forward(100); # 100픽셀만큼 직진 (이동 길이 즉, 각 변의 길이)\n",
        "t.left(120); # 120도 회전 (회전각도 즉, 외각이 120도를 이뤄야 정삼각형 내각 60도가 만들어진다)\n",
        "t.forward(100); # 100픽셀만큼 직진\n",
        "t.left(120); # 120도 회전\n",
        "t.forward(100); # 100픽셀만큼 직진\n",
        "t.left(120); # 120도 회전"
      ],
      "execution_count": null,
      "outputs": []
    },
    {
      "cell_type": "code",
      "metadata": {
        "id": "vUUb4qmQu7ZD"
      },
      "source": [
        "import turtle\n",
        "t = turtle.Turtle()\n",
        "t.shape(\"turtle\");\n",
        "\n",
        "t.forward(100); # 100픽셀만큼 직진 (이동 길이=각 변의 길이)\n",
        "t.left(90); # 90도 회전\n",
        "t.forward(100); # 100픽셀만큼 직진\n",
        "t.left(90); # 90도 회전\n",
        "t.forward(100); # 100픽셀만큼 직진\n",
        "t.left(90); # 90도 회전\n",
        "t.forward(100); # 100픽셀만큼 직진\n",
        "t.left(90); # 90도 회전"
      ],
      "execution_count": null,
      "outputs": []
    },
    {
      "cell_type": "code",
      "metadata": {
        "id": "5RnmgajdvHhF"
      },
      "source": [
        "import turtle\n",
        "t = turtle.Turtle()\n",
        "t.shape(\"turtle\");\n",
        "\n",
        "t.forward(100);\n",
        "t.left(60);\n",
        "t.forward(100);\n",
        "t.left(60);\n",
        "t.forward(100);\n",
        "t.left(60);\n",
        "t.forward(100);\n",
        "t.left(60);\n",
        "t.forward(100);\n",
        "t.left(60);\n",
        "t.forward(100);\n",
        "t.left(60);"
      ],
      "execution_count": null,
      "outputs": []
    },
    {
      "cell_type": "markdown",
      "metadata": {
        "id": "HHNn7scQkZXG"
      },
      "source": [
        "#2 제2장 변수의 소개 : 도전문제 "
      ]
    },
    {
      "cell_type": "markdown",
      "metadata": {
        "id": "ii0-HoxNlzwO"
      },
      "source": [
        "(1)  무엇이 출력될까?"
      ]
    },
    {
      "cell_type": "code",
      "metadata": {
        "id": "m-BvCBLLkmZd",
        "colab": {
          "base_uri": "https://localhost:8080/"
        },
        "outputId": "9c8733b6-31da-4be7-8d4a-266c60f3c562"
      },
      "source": [
        "x = 7\n",
        "y = 6\n",
        "print(x + y)"
      ],
      "execution_count": 9,
      "outputs": [
        {
          "output_type": "stream",
          "name": "stdout",
          "text": [
            "13\n"
          ]
        }
      ]
    },
    {
      "cell_type": "code",
      "metadata": {
        "id": "l_7LbJaUkuMP",
        "colab": {
          "base_uri": "https://localhost:8080/"
        },
        "outputId": "2e0fc6c3-d19a-4be0-a76d-3d31b4cb6b8c"
      },
      "source": [
        "x = '7'\n",
        "y = '6'\n",
        "print(x + y)"
      ],
      "execution_count": 8,
      "outputs": [
        {
          "output_type": "stream",
          "name": "stdout",
          "text": [
            "76\n"
          ]
        }
      ]
    },
    {
      "cell_type": "markdown",
      "metadata": {
        "id": "D3w_64mzvUG8"
      },
      "source": [
        "거북이가 앞으로 움직이는 거리도 변수 x에 저장하여 보자. 변수의 값을 변경하면서 프로그램을 실행하여보자."
      ]
    },
    {
      "cell_type": "code",
      "metadata": {
        "id": "ryVR6m12wlBP"
      },
      "source": [
        "import turtle\n",
        "t = turtle.Turtle()\n",
        "t.shape(\"turtle\")\n",
        "radius = 50      # 변수 radius와 값을 선언\n",
        "x = 30           # 변수 x와 값을 선언\n",
        "t.circle(radius)    # 반지름이 50인 원이 그려진다.\n",
        "t.fd(x)             # fd는 forward와 같은 명령어이다. 앞으로 30만큼 움직인다.\n",
        "t.circle(radius)    # 반지름이 50인 원이 그려진다.\n",
        "x = 50              # 움직이는 거리를 담는 변수 x의 값을 50픽셀로 수정한다.\n",
        "t.fd(x)             # 앞으로 50만큼 움직인다. fd는 forward의 약자\n",
        "t.circle(radius)    # 반지름이 50인 원이 그려진다."
      ],
      "execution_count": null,
      "outputs": []
    },
    {
      "cell_type": "markdown",
      "metadata": {
        "id": "ldF0UKEbk3MP"
      },
      "source": [
        "사용자로부터 2개의 정수를 받아서 사칙연산을 한 후에 결과를 출력하는 프로그램을 작성해보자."
      ]
    },
    {
      "cell_type": "code",
      "metadata": {
        "id": "TWQTiiZik_US"
      },
      "source": [
        "x = int(input(\"첫 번째 정수를 입력하시오: \"))\n",
        "y = int(input(\"두 번째 정수를 입력하시오: \"))\n",
        "print(x, \" + \", y, \" = \", x + y)     # 더하기\n",
        "print(x, \" - \", y, \" = \", x - y)     # 빼기\n",
        "print(x, \" * \", y, \" = \", x * y)     # 곱하기\n",
        "print(x, \" / \", y, \" = \", x / y)     # 나누기"
      ],
      "execution_count": null,
      "outputs": []
    },
    {
      "cell_type": "markdown",
      "metadata": {
        "id": "FKYl2h8ElpH5"
      },
      "source": [
        "#3 제3장 계산해봅시다.: 도전문제 "
      ]
    },
    {
      "cell_type": "markdown",
      "metadata": {
        "id": "-tJNxaFRl9Ly"
      },
      "source": [
        "총 재료 비용이 100,000원이었다고 하자. 이익을 계산해보자. 흑자인지를 표시하라."
      ]
    },
    {
      "cell_type": "code",
      "metadata": {
        "id": "wpEovVyEmCXN"
      },
      "source": [
        "total = 100000  # 총 재료비용\n",
        "americano_price = 2000\n",
        "cafelatte_price = 3000\n",
        "capucino_price = 3500\n",
        "\n",
        "americanos = int(input(\"아메리카노 판매 개수: \"))\n",
        "cafelattes = int(input(\"카페라테 판매 개수: \"))\n",
        "capucinos = int(input(\"카푸치노 판매 개수: \"))\n",
        "\n",
        "sales = americanos*americano_price\n",
        "sales = sales + cafelattes * cafelatte_price\n",
        "sales = sales + capucinos * capucino_price\n",
        "print(\"총 매출은\", sales, \"입니다.\")\n",
        "\n",
        "if (total < sales) : print(\"흑자입니다.\")\n",
        "else : print(\"적자입니다.\")"
      ],
      "execution_count": null,
      "outputs": []
    },
    {
      "cell_type": "markdown",
      "metadata": {
        "id": "_E_PaAromKCr"
      },
      "source": [
        "반대로 섭씨온도를 화씨온도로 변환하는 프로그램도 작성해보자."
      ]
    },
    {
      "cell_type": "code",
      "metadata": {
        "id": "AJrrp-WzmPlh"
      },
      "source": [
        "ctemp = int(input(\"섭씨온도: \"))\n",
        "ftemp = 9/5*ctemp+32\n",
        "print(\"화씨온도: \",ftemp)"
      ],
      "execution_count": null,
      "outputs": []
    },
    {
      "cell_type": "markdown",
      "metadata": {
        "id": "cYLlgt_UmVJF"
      },
      "source": [
        "자판기가 만약 50원짜리 동전과 10원짜리 동전도 거슬러 줄 수 있다면 위의 코드를 어떻게 수정하여야 하는가?"
      ]
    },
    {
      "cell_type": "code",
      "metadata": {
        "id": "1S2Zv7cnmdC3"
      },
      "source": [
        "money = int(input(\"투입한 돈: \"))\n",
        "price = int(input(\"물건 값: \"))\n",
        "\n",
        "change = money - price\n",
        "print(\"거스름돈: \",change)\n",
        "coin500s = change // 500    # 500으로 나누어서 몫이 500원짜리의 개수\n",
        "change = change % 500       # 500으로 나눈 나머지를 계산한다.\n",
        "coin100s = change // 100    # 100으로 나누어서 몫이 100원짜리의 개수\n",
        "change = change % 100       # 100으로 나눈 나머지를 계산한다.\n",
        "coin50s = change // 50    # 50으로 나누어서 몫이 500원짜리의 개수\n",
        "change = change % 50       # 50으로 나눈 나머지를 계산한다.\n",
        "coin10s = change // 10    # 10으로 나누어서 몫이 500원짜리의 개수\n",
        "change = change % 10       # 10으로 나눈 나머지를 계산한다.\n",
        "print(\"500원 동전의 개수: \", coin500s)\n",
        "print(\"100원 동전의 개수: \", coin100s)\n",
        "print(\"50원 동전의 개수: \", coin50s)\n",
        "print(\"10원 동전의 개수: \", coin10s)"
      ],
      "execution_count": null,
      "outputs": []
    },
    {
      "cell_type": "markdown",
      "metadata": {
        "id": "lQsvUEYZmhTZ"
      },
      "source": [
        "코드에 주석을 붙여보자."
      ]
    },
    {
      "cell_type": "markdown",
      "metadata": {
        "id": "OV_3ZwtzmoFw"
      },
      "source": [
        "\n",
        "\n",
        "```\n",
        "# 주석을 달아보세요.\n",
        "money = int(input(\"투입한 돈: \"))\n",
        "price = int(input(\"물건 값: \"))\n",
        "\n",
        "change = money – price\n",
        "coin500s = change // 500\n",
        "change = change % 500   \n",
        "coin100s = change // 100\n",
        "print(\"500원 동전의 개수: \", coin500s)\n",
        "print(\"100원 동전의 개수: \", coin100s)\n",
        "```\n",
        "\n"
      ]
    },
    {
      "cell_type": "code",
      "metadata": {
        "id": "hFotOHynmlDz"
      },
      "source": [
        "money = int(input(\"투입한 돈: \")) # 변수 money를 선언하고 정수형으로 받는다.\n",
        "price = int(input(\"물건 값: \"))    # 변수 price를 선언하고 정수로 받는다.\n",
        "\n",
        "change = money – price     # 거스름돈을 계산한다\n",
        "coin500s = change // 500    # 500으로 나누어서 몫이 500원짜리의 개수이다.\n",
        "change = change % 500      # 500으로 나눈 나머지를 계산한다.\n",
        "coin100s = change // 100    # 100으로 나누어서 몫이 100원짜리의 개수이다.\n",
        "print(\"500원 동전의 개수: \", coin500s) #거슬러줄 500원짜리의 개수를 출력한다.\n",
        "print(\"100원 동전의 개수: \", coin100s) #거슬러줄 100원짜리의 개수를 출력한다."
      ],
      "execution_count": null,
      "outputs": []
    },
    {
      "cell_type": "markdown",
      "metadata": {
        "id": "kUWMDv9NtIYn"
      },
      "source": [
        "#4 제4장 자료의 종류 : 도전문제"
      ]
    },
    {
      "cell_type": "markdown",
      "metadata": {
        "id": "KKbQ6aVHtOQN"
      },
      "source": [
        "사각형의 각 변에 \" 안녕하세요? 홍길동씨, 터틀 인사드립니다\"를 출력해보자."
      ]
    },
    {
      "cell_type": "code",
      "metadata": {
        "id": "bPYf0ZiUxMfx"
      },
      "source": [
        "import turtle\n",
        "t = turtle.Turtle()\n",
        "t.shape(\"turtle\")\n",
        "\n",
        "s = turtle.textinput(\"\",\"이름을 입력하시오: \")\n",
        "\n",
        "for i in range(4):\n",
        "    t.write(\"안녕하세요?\" + s + \"씨, 터틀 인사드립니다.\")\n",
        "    t.left(90)\n",
        "    t.forward(100)"
      ],
      "execution_count": null,
      "outputs": []
    },
    {
      "cell_type": "markdown",
      "metadata": {
        "id": "gseYDG-MxPNK"
      },
      "source": [
        "사용자에게 다른 정보도 물어보고 친근하게 다시 답변해보자. 예를 들어 취미에 관하여 다음과 같이 질문할수도 있다.\n",
        "\n",
        "*   \"취미가 무엇인가요?\" \"영화 감상\"\n",
        "*   \"네 저도 영화 감상 좋아합니다.\"\n",
        "\n"
      ]
    },
    {
      "cell_type": "code",
      "metadata": {
        "id": "zm-h8E7cxfLn"
      },
      "source": [
        "print(\"안녕하세요?\")\n",
        "name = input(\"이름이 어떻게 되시나요? \")\n",
        "print(\"만나서 반갑습니다.\" + name + \"씨\")\n",
        "print(\"이름의 길이는 다음과 같군요:\", end = \" \")\n",
        "print(len(name))\n",
        "age = int(input(\"나이가 어떻게 되나요? \"))\n",
        "print(\"내년이면 \", str(age+1),\"이 되시는군요.\")\n",
        "hobby = input(\"취미가 무엇인가요?\")\n",
        "print(\"네 저도 \"+hobby+\" 좋아합니다.\")"
      ],
      "execution_count": null,
      "outputs": []
    },
    {
      "cell_type": "markdown",
      "metadata": {
        "id": "zf45ary_xhSU"
      },
      "source": [
        "사용자로부터 현재 날짜를 받아서 \"월/일/연도\"순으로 출력해보자."
      ]
    },
    {
      "cell_type": "code",
      "metadata": {
        "id": "0coMBHETxnhG"
      },
      "source": [
        "year = input(\"오늘의 연도를 입력하시오: \")\n",
        "month = input(\"오늘의 월을 입력하시오: \")\n",
        "date = input(\"오늘의 일을 입력하시오: \")\n",
        "\n",
        "print(month+\"/\", date+\"/\", year)"
      ],
      "execution_count": null,
      "outputs": []
    },
    {
      "cell_type": "markdown",
      "metadata": {
        "id": "-cJrEMd_xo9o"
      },
      "source": [
        "str()을 사용하지 않고 print(\"올해는\", thisYear, \"입니다.\")와 같이 쉼표를 사용하여 변수와 문자열을 동시 출력할 수 있는가? 프로그램을 이런 식으로 변경해보자. 어떤 방법이 편리한가?"
      ]
    },
    {
      "cell_type": "code",
      "metadata": {
        "id": "J4BDU1PCx70f"
      },
      "source": [
        "import time\n",
        "\n",
        "now = time.time()\n",
        "thisYear = int(1970 + now//(365*24*3600))\n",
        "\n",
        "print(\"올해는 \",thisYear,\"입니다.\")\n",
        "age = int(input(\"몇 살이신지요? \"))\n",
        "print(\"2050년에는 \",(age+2050-thisYear),\"살 이시군요.\")"
      ],
      "execution_count": null,
      "outputs": []
    },
    {
      "cell_type": "markdown",
      "metadata": {
        "id": "fDUldx_gx9Et"
      },
      "source": [
        "#5 제5장 조건문의 활용 : 도전문제"
      ]
    },
    {
      "cell_type": "markdown",
      "metadata": {
        "id": "G-GFZ4CoyB53"
      },
      "source": [
        "25세 이상이면 \"이 영화를 보실 수 있습니다.\" 메시지에 추가로 \"영화의 가격은 10000원입니다.\"를 출력해보자. 만약 15세 미만이면 \"이 영화를 보실 수 없습니다.\" 메시지에 추가로 \"다른 영화를 보시겠어요?\"를 출력해 보자."
      ]
    },
    {
      "cell_type": "code",
      "metadata": {
        "id": "-RDgybCPyStc"
      },
      "source": [
        "age = int(input(\"나이를 입력하시오: \"))\n",
        "if age >= 15:\n",
        "    print(\"이 영화를 보실 수 있습니다. 영화의 가격은 10000원입니다.\")\n",
        "else:\n",
        "    print(\"이 영화를 보실 수 없습니다. 다른 영화를 보시겠어요?\")\n"
      ],
      "execution_count": null,
      "outputs": []
    },
    {
      "cell_type": "markdown",
      "metadata": {
        "id": "b6jxnrUUyu69"
      },
      "source": [
        "\n",
        "\n",
        "1.   사용자가 \"l\" 또는 \"left\"를 입력하면 왼쪽으로 움직이고 \"r\" 또는 \"right\"를 입력하면 오른쪽으로 이동하도록 소스를 약간 변경해보자.\n",
        "2.   사용자가 \"q\" 또는 \"quit\"을 입력했을 때, 프로그램을 종료하도록 하라.\n",
        "\n"
      ]
    },
    {
      "cell_type": "code",
      "metadata": {
        "id": "vYvDvpYqzCXB"
      },
      "source": [
        "import turtle\n",
        "\n",
        "t = turtle.Turtle() # 거북이를 만든다.\n",
        "\n",
        "t.width(3) # 거북이가 그리는 선의 두께를 3으로 한다.\n",
        "\n",
        "t.shape(\"turtle\") # 커서의 모양을 거북이로 한다.\n",
        "\n",
        "t.shapesize(3, 3) # 거북이를 3배 확대한다.\n",
        "\n",
        "\n",
        "# 무한 루프이다.\n",
        "while answer:\n",
        "    command = input(\"명령을 입력하시오: \")\n",
        "    if command == \"l\" or command == \"left\":  # l 또는 left 입력하면\n",
        "        t.left(90)\n",
        "        t.forward(100)\n",
        "    if command == \"r\" or command == \"right\":  # r 또는 right 입력하면\n",
        "        t.right(90)\n",
        "        t.forward(100)"
      ],
      "execution_count": null,
      "outputs": []
    },
    {
      "cell_type": "code",
      "metadata": {
        "id": "Bzj3OpZEzDEq"
      },
      "source": [
        "import turtle\n",
        "\n",
        "t = turtle.Turtle() # 거북이를 만든다.\n",
        "\n",
        "t.width(3) # 거북이가 그리는 선의 두께를 3으로 한다.\n",
        "\n",
        "t.shape(\"turtle\") # 커서의 모양을 거북이로 한다.\n",
        "\n",
        "t.shapesize(3, 3) # 거북이를 3배 확대한다.\n",
        "\n",
        "flag = True\n",
        "\n",
        "# 루프 제어변수인 flag를 둔다.\n",
        "while flag:\n",
        "   command = input(\"명령을 입력하시오: \")\n",
        "   if command == \"l\" or command == \"left\": # l 또는 left 입력하면\n",
        "        t.left(90)\n",
        "        t.forward(100)\n",
        "    if command == \"r\" or command == \"right\": # r 또는 right 입력하면\n",
        "        t.right(90)\n",
        "        t.forward(100)\n",
        "    if command == \"q\" or command == \"quit\": # q 또는 quit 입력하면\n",
        "        flag = False"
      ],
      "execution_count": null,
      "outputs": []
    },
    {
      "cell_type": "markdown",
      "metadata": {
        "id": "oAsbBjRjzFrz"
      },
      "source": [
        "주사위 던지기 게입으로 변환해보자. random.randrange(6)하면 0에서 5까지의 정수를 랜덤하게 생성할 수 있다."
      ]
    },
    {
      "cell_type": "code",
      "metadata": {
        "id": "Y9tqf8HjzNbx"
      },
      "source": [
        "import random\n",
        "\n",
        "print(\"주사위 던지기 게임을 시작합니다.\")\n",
        "dice = random.randrange(6)+1\n",
        "print(\"주사위 눈은 \"+str(dice)+\"입니다.\")\n",
        "print(\"게임이 종료되었습니다.\")"
      ],
      "execution_count": null,
      "outputs": []
    },
    {
      "cell_type": "markdown",
      "metadata": {
        "id": "EEFD3EYKzXe4"
      },
      "source": [
        "종달새가 6시와 9시 사이 또는 14시와 16시 사이에 노래한다고 하면(그리고 날시는 항상 화창하여야한다.)위 조건식을 어떻게 변경하여야 하는가?"
      ]
    },
    {
      "cell_type": "code",
      "metadata": {
        "id": "b32I5WNAzfoY"
      },
      "source": [
        "import random\n",
        "time = random.randint(1,24)\n",
        "print(\"좋은 아침입니다. 지금 시각은 \" +str(time) + \"시 입니다.\")\n",
        "#sunny = random.choice([True,False])\n",
        "#if sunny :\n",
        "#    print(\"현재 날씨가 화창합니다.\")\n",
        "#else:\n",
        "#    print(\"현재 날씨가 화창하지 않습니다.\")\n",
        "\n",
        "#종달새가 노래를 할 것인지를 판단해보자.\n",
        "if time >= 6 and time <9 and True:\n",
        "    print(\"종달새가 노래를 한다.\")\n",
        "\n",
        "elif time >= 14 and time <16 and True:\n",
        "    print(\"종달새가 노래를 한다.\")\n",
        "else:\n",
        "    print(\"종달새가 노래를 하지 않는다.\")"
      ],
      "execution_count": null,
      "outputs": []
    },
    {
      "cell_type": "markdown",
      "metadata": {
        "id": "Jdab9n9Czh8Q"
      },
      "source": [
        "아이디 검사가 종료되면 바로 패스워드 검사를 해보자. 즉, 다음과 같은 출력을 가지는프로그램을 작성한다.\n",
        "\n",
        "*   아이디를 입력하시오: ilovepython\n",
        "*   패스워드를 입력하시오: 123456\n",
        "*   환영합니다.\n",
        "\n",
        "\n",
        "\n",
        "\n",
        "\n"
      ]
    },
    {
      "cell_type": "code",
      "metadata": {
        "id": "cK5nB-3Iz6SY"
      },
      "source": [
        "id = \"ilovepython\"\n",
        "pw = \"123456\"\n",
        "s = input(\"아이디를 입력하시오: \")\n",
        "if s == id:\n",
        "    p = input(\"패스워드를 입력하시오: \")\n",
        "    if p == pw:\n",
        "        print(\"환영합니다.\")\n",
        "    else:\n",
        "        print(\"비밀번호가 잘못되었습니다.\")\n",
        "    \n",
        "else:\n",
        "    print(\"아이디를 찾을 수 없습니다.\")"
      ],
      "execution_count": null,
      "outputs": []
    },
    {
      "cell_type": "markdown",
      "metadata": {
        "id": "lnQsON5jz7Fw"
      },
      "source": [
        "골대를 더 여러 영역에서 나누어서 게임을 다시 작성해보자. 즉, 왼쪽 상단, 왼쪽 하단, 중앙, 오른쪽 상단, 오른쪽 하단 중에서 하나를 선택하도록 하라."
      ]
    },
    {
      "cell_type": "code",
      "metadata": {
        "id": "xGJ9CL9p0EIJ"
      },
      "source": [
        "import random\n",
        "\n",
        "options = [\"왼쪽 상단\",\"왼쪽 하단\",\"중앙\",\"오른쪽 상단\",\"오른쪽 하단\"]\n",
        "computer_choice = random.choice(options)\n",
        "user_choice = input(\"어디를 수비하시겠어요?(왼쪽 상단, 왼쪽 하단, 중앙, 오른쪽 상단, 오른쪽 하단)\")\n",
        "if computer_choice == user_choice:\n",
        "    print(\"수비에 성공하셨습니다.\")\n",
        "else:\n",
        "    print(\"페널티 킥이 성공하였습니다.\")"
      ],
      "execution_count": null,
      "outputs": []
    },
    {
      "cell_type": "markdown",
      "metadata": {
        "id": "Fl6rRb070MXd"
      },
      "source": [
        "아래의 프로그램에서는 \"사각형\"만을 지원하고 있다. \"삼각형\", \"원\"인 경우에 도형을 그리는 코드를 추가하라.\n",
        "\n",
        "\n",
        "```\n",
        "import turtle\n",
        "t = turtle.Turtle()\n",
        "t.shape(\"turtle\")\n",
        "\n",
        "s = turtle.textinput(\"\",\"도형을 입력하시오: \")\n",
        "if s == \"사각형\":\n",
        "    s = turtle.textinput(\"\",\"가로: \")\n",
        "    w = int(s)\n",
        "    s = turtle.textinput(\"\",\"세로: \")\n",
        "    h = int(s)\n",
        "    t.forward(w)\n",
        "    t.left(90)\n",
        "    t.forward(h)\n",
        "    t.left(90)\n",
        "    t.forward(w)\n",
        "    t.left(90)\n",
        "    t.forward(h)\n",
        "```\n",
        "\n"
      ]
    },
    {
      "cell_type": "code",
      "metadata": {
        "id": "q8EqOj5e0gG7"
      },
      "source": [
        "import turtle\n",
        "t = turtle.Turtle()\n",
        "t.shape(\"turtle\")\n",
        "\n",
        "s = turtle.textinput(\"\",\"도형을 입력하시오: \")\n",
        "if s == \"사각형\":\n",
        "    s = turtle.textinput(\"\",\"가로: \")\n",
        "    w = int(s)\n",
        "    s = turtle.textinput(\"\",\"세로: \")\n",
        "    h = int(s)\n",
        "    t.forward(w)\n",
        "    t.left(90)\n",
        "    t.forward(h)\n",
        "    t.left(90)\n",
        "    t.forward(w)\n",
        "    t.left(90)\n",
        "    t.forward(h)\n",
        "elif s == \"삼각형\":\n",
        "    s = turtle.textinput(\"\",\"변: \")\n",
        "    l = int(s)\n",
        "    t.forward(l)\n",
        "    t.left(120)\n",
        "    t.forward(l)\n",
        "    t.left(120)\n",
        "    t.forward(l)\n",
        "elif s == \"원\":\n",
        "    s = turtle.textinput(\"\",\"반지름: \")\n",
        "    r = int(s)\n",
        "    t.circle(r)\n",
        "else:\n",
        "    pass"
      ],
      "execution_count": null,
      "outputs": []
    }
  ]
}