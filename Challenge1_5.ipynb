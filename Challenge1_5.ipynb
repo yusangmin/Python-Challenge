{
  "nbformat": 4,
  "nbformat_minor": 0,
  "metadata": {
    "colab": {
      "name": "Challenge1-5.ipynb",
      "provenance": [],
      "authorship_tag": "ABX9TyNH9Bg+O9WDMM1jRm9eSrwM",
      "include_colab_link": true
    },
    "kernelspec": {
      "name": "python3",
      "display_name": "Python 3"
    },
    "language_info": {
      "name": "python"
    }
  },
  "cells": [
    {
      "cell_type": "markdown",
      "metadata": {
        "id": "view-in-github",
        "colab_type": "text"
      },
      "source": [
        "<a href=\"https://colab.research.google.com/github/yusangmin/Python-Challenge/blob/main/Challenge1_5.ipynb\" target=\"_parent\"><img src=\"https://colab.research.google.com/assets/colab-badge.svg\" alt=\"Open In Colab\"/></a>"
      ]
    },
    {
      "cell_type": "markdown",
      "metadata": {
        "id": "DkfuodLRjkBA"
      },
      "source": [
        "제1장 파이썬의 소개 : 도전문제"
      ]
    },
    {
      "cell_type": "markdown",
      "metadata": {
        "id": "nj8vpqNGjper"
      },
      "source": [
        "한글도 출력될까? 이번에도 따옴표를 올바르게 입력하여야한다.\n",
        "(1) \"안녕하세요?\"를 화면에 출력해보자.\n",
        "(2) \"Programming에 입문하신 것을 출하드립니다.\"를 출력해보자."
      ]
    },
    {
      "cell_type": "code",
      "metadata": {
        "id": "MqfmhRucj-JW"
      },
      "source": [
        "print(\"안녕하세요?\")"
      ],
      "execution_count": null,
      "outputs": []
    },
    {
      "cell_type": "code",
      "metadata": {
        "id": "6XIsizI5kXlj"
      },
      "source": [
        "print(\"programming에 입문하신 것을 축하드립니다.\")"
      ],
      "execution_count": null,
      "outputs": []
    },
    {
      "cell_type": "markdown",
      "metadata": {
        "id": "HHNn7scQkZXG"
      },
      "source": [
        "(1)  무엇이 출력될까?"
      ]
    },
    {
      "cell_type": "code",
      "metadata": {
        "id": "m-BvCBLLkmZd"
      },
      "source": [
        "x = 7\n",
        "y = 6\n",
        "print(x + y)"
      ],
      "execution_count": null,
      "outputs": []
    },
    {
      "cell_type": "code",
      "metadata": {
        "id": "l_7LbJaUkuMP"
      },
      "source": [
        "x = '7'\n",
        "y = '6'\n",
        "print(x + y)"
      ],
      "execution_count": null,
      "outputs": []
    },
    {
      "cell_type": "markdown",
      "metadata": {
        "id": "ldF0UKEbk3MP"
      },
      "source": [
        "사용자로부터 2개의 정수를 받아서 사칙연산을 한 후에 결과를 출력하는 프로그램을 작성해보자."
      ]
    },
    {
      "cell_type": "code",
      "metadata": {
        "id": "TWQTiiZik_US"
      },
      "source": [
        "x = int(input(\"첫 번째 정수를 입력하시오: \"))\n",
        "y = int(input(\"두 번째 정수를 입력하시오: \"))\n",
        "print(x, \" + \", y, \" = \", x + y)     # 더하기\n",
        "print(x, \" - \", y, \" = \", x – y)     # 빼기\n",
        "print(x, \" * \", y, \" = \", x * y)     # 곱하기\n",
        "print(x, \" / \", y, \" = \", x / y)     # 나누기"
      ],
      "execution_count": null,
      "outputs": []
    }
  ]
}